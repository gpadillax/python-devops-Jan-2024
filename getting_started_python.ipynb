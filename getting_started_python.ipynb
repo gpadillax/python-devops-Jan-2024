{
  "nbformat": 4,
  "nbformat_minor": 0,
  "metadata": {
    "colab": {
      "provenance": [],
      "toc_visible": true,
      "authorship_tag": "ABX9TyPnKT/SM5YDAN3l0HaUHF1Z",
      "include_colab_link": true
    },
    "kernelspec": {
      "name": "python3",
      "display_name": "Python 3"
    },
    "language_info": {
      "name": "python"
    }
  },
  "cells": [
    {
      "cell_type": "markdown",
      "metadata": {
        "id": "view-in-github",
        "colab_type": "text"
      },
      "source": [
        "<a href=\"https://colab.research.google.com/github/gpadillax/python-devops-Jan-2024/blob/main/getting_started_python.ipynb\" target=\"_parent\"><img src=\"https://colab.research.google.com/assets/colab-badge.svg\" alt=\"Open In Colab\"/></a>"
      ]
    },
    {
      "cell_type": "markdown",
      "source": [
        "## Introduction to Python"
      ],
      "metadata": {
        "id": "ksUJSFsiReZt"
      }
    },
    {
      "cell_type": "markdown",
      "source": [
        "### Statements in Python"
      ],
      "metadata": {
        "id": "QJl-uFKBRq4m"
      }
    },
    {
      "cell_type": "code",
      "source": [
        "print(\"Hello world\")"
      ],
      "metadata": {
        "colab": {
          "base_uri": "https://localhost:8080/"
        },
        "id": "LvHnAf-fR6fy",
        "outputId": "5659be70-f1a1-4195-9f91-6fd2a16452cd"
      },
      "execution_count": 1,
      "outputs": [
        {
          "output_type": "stream",
          "name": "stdout",
          "text": [
            "Hello world\n"
          ]
        }
      ]
    },
    {
      "cell_type": "code",
      "source": [
        "name = \"gabo\"\n",
        "print(f\"hello {name}\")"
      ],
      "metadata": {
        "colab": {
          "base_uri": "https://localhost:8080/"
        },
        "id": "2OwkdAnZSF2-",
        "outputId": "3515a2ca-3793-4209-ed28-63c27cb748f6"
      },
      "execution_count": 2,
      "outputs": [
        {
          "output_type": "stream",
          "name": "stdout",
          "text": [
            "hello gabo\n"
          ]
        }
      ]
    },
    {
      "cell_type": "markdown",
      "source": [
        "### Datastructures: List and Dictionaries"
      ],
      "metadata": {
        "id": "A3AITl_nSXcu"
      }
    },
    {
      "cell_type": "markdown",
      "source": [
        "#### List"
      ],
      "metadata": {
        "id": "P4tYpsdJTKWi"
      }
    },
    {
      "cell_type": "code",
      "source": [
        "fruit = [\"apple\", \"pear\", \"strawberry\"]"
      ],
      "metadata": {
        "id": "rNzs3p4HSfgF"
      },
      "execution_count": 3,
      "outputs": []
    },
    {
      "cell_type": "code",
      "source": [
        "type(fruit)"
      ],
      "metadata": {
        "colab": {
          "base_uri": "https://localhost:8080/"
        },
        "id": "DIJGZgt0SsBE",
        "outputId": "546fc688-5aeb-43b2-bacd-57ed77a667fc"
      },
      "execution_count": 4,
      "outputs": [
        {
          "output_type": "execute_result",
          "data": {
            "text/plain": [
              "list"
            ]
          },
          "metadata": {},
          "execution_count": 4
        }
      ]
    },
    {
      "cell_type": "code",
      "source": [
        "fruit[0]"
      ],
      "metadata": {
        "colab": {
          "base_uri": "https://localhost:8080/",
          "height": 35
        },
        "id": "DsV1alOjSvB2",
        "outputId": "14d740e7-b327-4139-dfb8-ebe0e578c522"
      },
      "execution_count": 5,
      "outputs": [
        {
          "output_type": "execute_result",
          "data": {
            "text/plain": [
              "'apple'"
            ],
            "application/vnd.google.colaboratory.intrinsic+json": {
              "type": "string"
            }
          },
          "metadata": {},
          "execution_count": 5
        }
      ]
    },
    {
      "cell_type": "code",
      "source": [
        "fruit[:-1]"
      ],
      "metadata": {
        "colab": {
          "base_uri": "https://localhost:8080/"
        },
        "id": "yrKIh6SeSy98",
        "outputId": "6a22e78e-b79c-4845-deac-1ea129be3b75"
      },
      "execution_count": 6,
      "outputs": [
        {
          "output_type": "execute_result",
          "data": {
            "text/plain": [
              "['apple', 'pear']"
            ]
          },
          "metadata": {},
          "execution_count": 6
        }
      ]
    },
    {
      "cell_type": "code",
      "source": [
        "for my_fruit in fruit:\n",
        "  print(f\"This is my favorite fruit: {my_fruit}\")"
      ],
      "metadata": {
        "colab": {
          "base_uri": "https://localhost:8080/"
        },
        "id": "UfPfzB6lS2ja",
        "outputId": "3305c480-9d42-43a7-f0d5-77aae904183d"
      },
      "execution_count": 7,
      "outputs": [
        {
          "output_type": "stream",
          "name": "stdout",
          "text": [
            "This is my favorite fruit: apple\n",
            "This is my favorite fruit: pear\n",
            "This is my favorite fruit: strawberry\n"
          ]
        }
      ]
    },
    {
      "cell_type": "markdown",
      "source": [
        "#### Dictionary"
      ],
      "metadata": {
        "id": "N_CKpIWeTQbC"
      }
    },
    {
      "cell_type": "code",
      "source": [
        "meal = {\"breakfast\": \"black coffee\", \"lunch\": \"salad\", \"dinner\": \"rice and beans\"}"
      ],
      "metadata": {
        "id": "CR8pDi4BTTlr"
      },
      "execution_count": 8,
      "outputs": []
    },
    {
      "cell_type": "code",
      "source": [
        "meal.keys()"
      ],
      "metadata": {
        "colab": {
          "base_uri": "https://localhost:8080/"
        },
        "id": "JPIRmtnUToj6",
        "outputId": "3b5954b8-8592-4fa5-a5b1-face40088e9a"
      },
      "execution_count": 9,
      "outputs": [
        {
          "output_type": "execute_result",
          "data": {
            "text/plain": [
              "dict_keys(['breakfast', 'lunch', 'dinner'])"
            ]
          },
          "metadata": {},
          "execution_count": 9
        }
      ]
    },
    {
      "cell_type": "code",
      "source": [
        "meal.values()"
      ],
      "metadata": {
        "colab": {
          "base_uri": "https://localhost:8080/"
        },
        "id": "GGgHx8QyTwIA",
        "outputId": "7dc48def-86ed-43a8-a1bc-e3550cd01fc7"
      },
      "execution_count": 10,
      "outputs": [
        {
          "output_type": "execute_result",
          "data": {
            "text/plain": [
              "dict_values(['black coffee', 'salad', 'rice and beans'])"
            ]
          },
          "metadata": {},
          "execution_count": 10
        }
      ]
    },
    {
      "cell_type": "code",
      "source": [
        "for meal_name, meal_item in meal.items():\n",
        "  print(f\"This meal {meal_name} is when I like to consume {meal_item}\")"
      ],
      "metadata": {
        "colab": {
          "base_uri": "https://localhost:8080/"
        },
        "id": "kPc_Akk_T4Zn",
        "outputId": "897d9e4b-2982-4486-f805-94e9819c9c67"
      },
      "execution_count": 11,
      "outputs": [
        {
          "output_type": "stream",
          "name": "stdout",
          "text": [
            "This meal breakfast is when I like to consume black coffee\n",
            "This meal lunch is when I like to consume salad\n",
            "This meal dinner is when I like to consume rice and beans\n"
          ]
        }
      ]
    }
  ]
}